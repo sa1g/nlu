{
 "cells": [
  {
   "cell_type": "code",
   "execution_count": 1,
   "metadata": {},
   "outputs": [],
   "source": [
    "from transformers import BertModel, BertTokenizer\n",
    "\n",
    "# Load pre-trained BERT model and tokenizer\n",
    "model_name = 'bert-base-uncased'\n",
    "bert_model = BertModel.from_pretrained(model_name)\n",
    "tokenizer = BertTokenizer.from_pretrained(model_name)\n"
   ]
  },
  {
   "cell_type": "code",
   "execution_count": 2,
   "metadata": {},
   "outputs": [],
   "source": [
    "import torch\n",
    "import torch.nn as nn\n",
    "\n",
    "class IntentSlotModel(nn.Module):\n",
    "    def __init__(self, bert_model, num_intent_labels, num_slot_labels):\n",
    "        super(IntentSlotModel, self).__init__()\n",
    "        self.bert = bert_model\n",
    "        self.intent_classifier = nn.Linear(bert_model.config.hidden_size, num_intent_labels)\n",
    "        self.slot_classifier = nn.Linear(bert_model.config.hidden_size, num_slot_labels)\n",
    "    \n",
    "    def forward(self, input_ids, attention_mask):\n",
    "        outputs = self.bert(input_ids, attention_mask=attention_mask)\n",
    "        sequence_output = outputs.last_hidden_state\n",
    "        pooled_output = outputs.pooler_output\n",
    "        \n",
    "        intent_logits = self.intent_classifier(pooled_output)\n",
    "        slot_logits = self.slot_classifier(sequence_output)\n",
    "        \n",
    "        return intent_logits, slot_logits\n",
    "\n",
    "# Example: Assuming we have 10 intents and 20 slot labels\n",
    "num_intent_labels = 10\n",
    "num_slot_labels = 20\n",
    "model = IntentSlotModel(bert_model, num_intent_labels, num_slot_labels)\n"
   ]
  },
  {
   "cell_type": "code",
   "execution_count": 5,
   "metadata": {},
   "outputs": [],
   "source": [
    "inputs = [\"book a flight to New York\", \"schedule a meeting at 3 PM\"]\n",
    "intent_labels = [0, 1]  # Example intent labels\n",
    "slot_labels = [[0, 0, 0, 0, 1, 2, 3], [0, 0, 0, 0, 4, 5, 6]]  # Example slot labels\n",
    "\n",
    "# Tokenize inputs\n",
    "encoded_inputs = tokenizer(inputs, padding=True, truncation=True, return_tensors=\"pt\")\n",
    "input_ids = encoded_inputs['input_ids']\n",
    "attention_mask = encoded_inputs['attention_mask']\n",
    "\n",
    "# Pad slot labels to match the length of input_ids\n",
    "max_len = input_ids.shape[1]\n",
    "padded_slot_labels = []\n",
    "for label in slot_labels:\n",
    "    padded_label = label + [0] * (max_len - len(label))  # Padding with 0 (or any other pad token you use)\n",
    "    padded_slot_labels.append(padded_label)\n",
    "slot_labels = torch.tensor(padded_slot_labels)\n",
    "\n",
    "# Convert intent labels to tensors\n",
    "intent_labels = torch.tensor(intent_labels)\n"
   ]
  },
  {
   "cell_type": "code",
   "execution_count": 6,
   "metadata": {},
   "outputs": [
    {
     "name": "stderr",
     "output_type": "stream",
     "text": [
      "/home/ettore/.conda/envs/nlu/lib/python3.10/site-packages/transformers/optimization.py:429: FutureWarning: This implementation of AdamW is deprecated and will be removed in a future version. Use the PyTorch implementation torch.optim.AdamW instead, or set `no_deprecation_warning=True` to disable this warning\n",
      "  warnings.warn(\n"
     ]
    },
    {
     "name": "stdout",
     "output_type": "stream",
     "text": [
      "Epoch: 0, Loss: 5.883545875549316\n",
      "Epoch: 1, Loss: 4.518344879150391\n",
      "Epoch: 2, Loss: 3.9565749168395996\n"
     ]
    }
   ],
   "source": [
    "from torch.utils.data import DataLoader, TensorDataset\n",
    "from transformers import AdamW\n",
    "\n",
    "# Create a DataLoader\n",
    "dataset = TensorDataset(input_ids, attention_mask, intent_labels, slot_labels)\n",
    "dataloader = DataLoader(dataset, batch_size=2)\n",
    "\n",
    "# Optimizer\n",
    "optimizer = AdamW(model.parameters(), lr=5e-5)\n",
    "\n",
    "# Loss functions\n",
    "intent_loss_fn = nn.CrossEntropyLoss()\n",
    "slot_loss_fn = nn.CrossEntropyLoss(ignore_index=0)  # Ignore pad token in slot loss\n",
    "\n",
    "# Training loop\n",
    "model.train()\n",
    "for epoch in range(3):  # Example: 3 epochs\n",
    "    for batch in dataloader:\n",
    "        input_ids, attention_mask, intent_labels, slot_labels = batch\n",
    "        \n",
    "        # Forward pass\n",
    "        intent_logits, slot_logits = model(input_ids, attention_mask)\n",
    "        \n",
    "        # Compute losses\n",
    "        intent_loss = intent_loss_fn(intent_logits, intent_labels)\n",
    "        slot_loss = slot_loss_fn(slot_logits.view(-1, num_slot_labels), slot_labels.view(-1))\n",
    "        loss = intent_loss + slot_loss\n",
    "        \n",
    "        # Backward pass and optimization\n",
    "        optimizer.zero_grad()\n",
    "        loss.backward()\n",
    "        optimizer.step()\n",
    "        \n",
    "        print(f\"Epoch: {epoch}, Loss: {loss.item()}\")\n"
   ]
  },
  {
   "cell_type": "code",
   "execution_count": null,
   "metadata": {},
   "outputs": [],
   "source": []
  }
 ],
 "metadata": {
  "kernelspec": {
   "display_name": "nlu",
   "language": "python",
   "name": "python3"
  },
  "language_info": {
   "codemirror_mode": {
    "name": "ipython",
    "version": 3
   },
   "file_extension": ".py",
   "mimetype": "text/x-python",
   "name": "python",
   "nbconvert_exporter": "python",
   "pygments_lexer": "ipython3",
   "version": "3.10.12"
  }
 },
 "nbformat": 4,
 "nbformat_minor": 2
}
