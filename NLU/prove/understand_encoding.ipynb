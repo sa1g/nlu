{
 "cells": [
  {
   "cell_type": "code",
   "execution_count": 1,
   "metadata": {},
   "outputs": [
    {
     "name": "stderr",
     "output_type": "stream",
     "text": [
      "/home/ettore/.conda/envs/nlu/lib/python3.10/site-packages/sklearn/utils/__init__.py:16: UserWarning: A NumPy version >=1.22.4 and <1.29.0 is required for this version of SciPy (detected version 1.22.3)\n",
      "  from scipy.sparse import issparse\n"
     ]
    }
   ],
   "source": [
    "from collections import Counter\n",
    "import json\n",
    "import os\n",
    "\n",
    "from sklearn.model_selection import train_test_split\n",
    "\n",
    "def load_data(path):\n",
    "    dataset = []\n",
    "    with open(path, \"r\") as file:\n",
    "        dataset = json.loads(file.read())\n",
    "\n",
    "    return dataset\n",
    "\n",
    "\n",
    "def split_sets(tmp_train_raw):\n",
    "    portion = 0.10\n",
    "\n",
    "    intents = [x[\"intent\"] for x in tmp_train_raw]  # We stratify on intents\n",
    "    count_y = Counter(intents)\n",
    "\n",
    "    labels = []\n",
    "    inputs = []\n",
    "    mini_train = []\n",
    "\n",
    "    for id_y, y in enumerate(intents):\n",
    "        if count_y[y] > 1:  # If some intents occurs only once, we put them in training\n",
    "            inputs.append(tmp_train_raw[id_y])\n",
    "            labels.append(y)\n",
    "        else:\n",
    "            mini_train.append(tmp_train_raw[id_y])\n",
    "\n",
    "    # Random Stratify\n",
    "    X_train, X_dev, _, _ = train_test_split(\n",
    "        inputs,\n",
    "        labels,\n",
    "        test_size=portion,\n",
    "        random_state=42,\n",
    "        shuffle=True,\n",
    "        stratify=labels,\n",
    "    )\n",
    "    X_train.extend(mini_train)\n",
    "    train_raw = X_train\n",
    "    dev_raw = X_dev\n",
    "\n",
    "    return train_raw, dev_raw\n",
    "\n",
    "def get_data(\n",
    "    train=os.path.join(\"../dataset\", \"ATIS\", \"train.json\"),\n",
    "    test=os.path.join(\"../dataset\", \"ATIS\", \"test.json\"),\n",
    "):\n",
    "\n",
    "    tmp_train_raw = load_data(train)\n",
    "    test_raw = load_data(test)\n",
    "\n",
    "    train_raw, dev_raw = split_sets(tmp_train_raw)\n",
    "\n",
    "    return train_raw, dev_raw, test_raw\n",
    "\n",
    "train_raw, dev_raw, test_raw = get_data()"
   ]
  },
  {
   "cell_type": "code",
   "execution_count": 3,
   "metadata": {},
   "outputs": [],
   "source": [
    "from transformers import BertTokenizer\n",
    "tokenizer = BertTokenizer.from_pretrained(\"bert-base-uncased\")"
   ]
  },
  {
   "cell_type": "code",
   "execution_count": 56,
   "metadata": {},
   "outputs": [
    {
     "data": {
      "text/plain": [
       "{'input_ids': [[101, 2064, 1045, 2202, 1037, 2309, 8582, 2013, 2474, 2000, 5904, 2000, 12948, 2067, 2000, 2474, 102, 0, 0, 0, 0, 0, 0, 0, 0, 0, 0, 0, 0, 0, 0, 0, 0, 0, 0, 0, 0, 0, 0, 0, 0, 0, 0, 0, 0, 0, 0, 0, 0, 0, 0, 0, 0, 0, 0, 0, 0, 0, 0, 0, 0, 0, 0, 0], [101, 2064, 1045, 2202, 1037, 2309, 8582, 2013, 2474, 2000, 5904, 2000, 12948, 2067, 2000, 2474, 102, 0, 0, 0, 0, 0, 0, 0, 0, 0, 0, 0, 0, 0, 0, 0, 0, 0, 0, 0, 0, 0, 0, 0, 0, 0, 0, 0, 0, 0, 0, 0, 0, 0, 0, 0, 0, 0, 0, 0, 0, 0, 0, 0, 0, 0, 0, 0]], 'token_type_ids': [[0, 0, 0, 0, 0, 0, 0, 0, 0, 0, 0, 0, 0, 0, 0, 0, 0, 0, 0, 0, 0, 0, 0, 0, 0, 0, 0, 0, 0, 0, 0, 0, 0, 0, 0, 0, 0, 0, 0, 0, 0, 0, 0, 0, 0, 0, 0, 0, 0, 0, 0, 0, 0, 0, 0, 0, 0, 0, 0, 0, 0, 0, 0, 0], [0, 0, 0, 0, 0, 0, 0, 0, 0, 0, 0, 0, 0, 0, 0, 0, 0, 0, 0, 0, 0, 0, 0, 0, 0, 0, 0, 0, 0, 0, 0, 0, 0, 0, 0, 0, 0, 0, 0, 0, 0, 0, 0, 0, 0, 0, 0, 0, 0, 0, 0, 0, 0, 0, 0, 0, 0, 0, 0, 0, 0, 0, 0, 0]], 'attention_mask': [[1, 1, 1, 1, 1, 1, 1, 1, 1, 1, 1, 1, 1, 1, 1, 1, 1, 0, 0, 0, 0, 0, 0, 0, 0, 0, 0, 0, 0, 0, 0, 0, 0, 0, 0, 0, 0, 0, 0, 0, 0, 0, 0, 0, 0, 0, 0, 0, 0, 0, 0, 0, 0, 0, 0, 0, 0, 0, 0, 0, 0, 0, 0, 0], [1, 1, 1, 1, 1, 1, 1, 1, 1, 1, 1, 1, 1, 1, 1, 1, 1, 0, 0, 0, 0, 0, 0, 0, 0, 0, 0, 0, 0, 0, 0, 0, 0, 0, 0, 0, 0, 0, 0, 0, 0, 0, 0, 0, 0, 0, 0, 0, 0, 0, 0, 0, 0, 0, 0, 0, 0, 0, 0, 0, 0, 0, 0, 0]]}"
      ]
     },
     "execution_count": 56,
     "metadata": {},
     "output_type": "execute_result"
    }
   ],
   "source": [
    "tokenizer(phrase, truncation=True, padding=\"max_length\", max_length=64)"
   ]
  },
  {
   "cell_type": "code",
   "execution_count": 47,
   "metadata": {},
   "outputs": [
    {
     "name": "stdout",
     "output_type": "stream",
     "text": [
      "1\n"
     ]
    }
   ],
   "source": [
    "bertId_to_seqId = {0:0}\n",
    "seqId2bertId = {0:0}\n",
    "\n",
    "print(len(seqId2bertId))\n",
    "\n",
    "for phrases in [train_raw, dev_raw, test_raw]:\n",
    "    for phrase in phrases:\n",
    "        ids = tokenizer(phrase[\"utterance\"])\n",
    "        ids = ids[\"input_ids\"]\n",
    "        # print(ids)\n",
    "        # break\n",
    "\n",
    "        for id in ids:\n",
    "            if id not in bertId_to_seqId:\n",
    "                bertId_to_seqId[id] = len(bertId_to_seqId)+1\n",
    "                seqId2bertId[len(seqId2bertId)+1] = id\n",
    "\n",
    "        # print(phrase[\"utterance\"])\n",
    "        # phrase[\"tokens\"] = tokenizer.tokenize(phrase[\"text\"])"
   ]
  },
  {
   "cell_type": "code",
   "execution_count": 60,
   "metadata": {},
   "outputs": [
    {
     "name": "stdout",
     "output_type": "stream",
     "text": [
      "['can i take a single airline from la to charlotte to newark back to la', 'can i take a single airline from la to charlotte to newark back to la']\n"
     ]
    },
    {
     "data": {
      "text/plain": [
       "[[2, 29, 20, 30, 23, 31, 32, 10, 33, 12, 34, 12, 35, 36, 12, 33, 14],\n",
       " [2, 29, 20, 30, 23, 31, 32, 10, 33, 12, 34, 12, 35, 36, 12, 33, 14]]"
      ]
     },
     "execution_count": 60,
     "metadata": {},
     "output_type": "execute_result"
    }
   ],
   "source": [
    "# try to encode a phrase\n",
    "phrase = [train_raw[3]['utterance'],train_raw[3]['utterance']]\n",
    "print(phrase)\n",
    "\n",
    "tokens = tokenizer(phrase)['input_ids']\n",
    "encoded_phrase = [[bertId_to_seqId[t] for t in ta] for ta in tokens]\n",
    "encoded_phrase\n",
    "    "
   ]
  },
  {
   "cell_type": "code",
   "execution_count": 62,
   "metadata": {},
   "outputs": [
    {
     "data": {
      "text/plain": [
       "'[CLS] i evening to which to san looking from of mia i flying to an stop arrival denver [SEP] [PAD] [PAD] [PAD] [PAD] [PAD] [PAD] [PAD] [PAD] [PAD] [PAD] [PAD] [PAD] [PAD] [PAD] [PAD] [PAD] [PAD] [PAD] [PAD] [PAD] [PAD] [PAD] [PAD] [PAD] [PAD] [PAD] [PAD] [PAD] [PAD] [PAD] [PAD] [PAD] [PAD] [PAD] [PAD] [PAD] [PAD] [PAD] [PAD] [PAD] [PAD] [PAD] [PAD] [PAD] [PAD]'"
      ]
     },
     "execution_count": 62,
     "metadata": {},
     "output_type": "execute_result"
    }
   ],
   "source": [
    "# decode a phrase\n",
    "\n",
    "encoded_phrase = [2, 20, 116, 12, 198, 12, 17, 291, 10, 75, 356, 20, 184, 12, 189, 190, 70, 48, 14, 0, 0, 0, 0, 0, 0, 0, 0, 0, 0, 0, 0, 0, 0, 0, 0, 0, 0, 0, 0, 0, 0, 0, 0, 0, 0, 0, 0, 0, 0, 0, 0, 0, 0, 0, 0, 0, 0, 0, 0, 0, 0, 0, 0, 0]\n",
    "\n",
    "ids = [seqId2bertId[e] for e in encoded_phrase]\n",
    "decoded = tokenizer.decode(ids) \n",
    "decoded\n",
    "\n",
    "# tokens = [[seqId2bertId[t] for t in ta] for ta in encoded_phrase]\n",
    "# tokens = tokenizer.decode(tokens[0])\n",
    "# tokens"
   ]
  },
  {
   "cell_type": "code",
   "execution_count": 59,
   "metadata": {},
   "outputs": [
    {
     "data": {
      "text/plain": [
       "[101,\n",
       " 1045,\n",
       " 3944,\n",
       " 2000,\n",
       " 2029,\n",
       " 2000,\n",
       " 2624,\n",
       " 2559,\n",
       " 2013,\n",
       " 1997,\n",
       " 8764,\n",
       " 1045,\n",
       " 3909,\n",
       " 2000,\n",
       " 2019,\n",
       " 2644,\n",
       " 5508,\n",
       " 7573,\n",
       " 102,\n",
       " 0,\n",
       " 0,\n",
       " 0,\n",
       " 0,\n",
       " 0,\n",
       " 0,\n",
       " 0,\n",
       " 0,\n",
       " 0,\n",
       " 0,\n",
       " 0,\n",
       " 0,\n",
       " 0,\n",
       " 0,\n",
       " 0,\n",
       " 0,\n",
       " 0,\n",
       " 0,\n",
       " 0,\n",
       " 0,\n",
       " 0,\n",
       " 0,\n",
       " 0,\n",
       " 0,\n",
       " 0,\n",
       " 0,\n",
       " 0,\n",
       " 0,\n",
       " 0,\n",
       " 0,\n",
       " 0,\n",
       " 0,\n",
       " 0,\n",
       " 0,\n",
       " 0,\n",
       " 0,\n",
       " 0,\n",
       " 0,\n",
       " 0,\n",
       " 0,\n",
       " 0,\n",
       " 0,\n",
       " 0,\n",
       " 0,\n",
       " 0]"
      ]
     },
     "execution_count": 59,
     "metadata": {},
     "output_type": "execute_result"
    }
   ],
   "source": [
    "ids"
   ]
  },
  {
   "cell_type": "code",
   "execution_count": null,
   "metadata": {},
   "outputs": [],
   "source": []
  }
 ],
 "metadata": {
  "kernelspec": {
   "display_name": "nlu",
   "language": "python",
   "name": "python3"
  },
  "language_info": {
   "codemirror_mode": {
    "name": "ipython",
    "version": 3
   },
   "file_extension": ".py",
   "mimetype": "text/x-python",
   "name": "python",
   "nbconvert_exporter": "python",
   "pygments_lexer": "ipython3",
   "version": "3.10.12"
  }
 },
 "nbformat": 4,
 "nbformat_minor": 2
}
