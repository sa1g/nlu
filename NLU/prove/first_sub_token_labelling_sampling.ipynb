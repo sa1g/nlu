{
 "cells": [
  {
   "cell_type": "markdown",
   "metadata": {},
   "source": [
    "# First Sub-token Labeling:\n",
    "\n",
    "    Assign the slot label of the original word only to the first sub-token. The subsequent sub-tokens can be assigned a special \"X\" label or ignored during the evaluation and loss calculation.\n",
    "    Example:\n",
    "        Original Sentence: \"I want to book an airplane ticket\"\n",
    "        Tokenized: [\"I\", \"want\", \"to\", \"book\", \"an\", \"air\", \"##plane\", \"ticket\"]\n",
    "        Slot Labels: [\"O\", \"O\", \"O\", \"O\", \"O\", \"B-transport\", \"X\", \"O\"]\n",
    "\n",
    "Replicating Slot Labels:\n",
    "\n",
    "    Assign the slot label of the original word to all its sub-tokens.\n",
    "    Example:\n",
    "        Original Sentence: \"I want to book an airplane ticket\"\n",
    "        Tokenized: [\"I\", \"want\", \"to\", \"book\", \"an\", \"air\", \"##plane\", \"ticket\"]\n",
    "        Slot Labels: [\"O\", \"O\", \"O\", \"O\", \"O\", \"B-transport\", \"B-transport\", \"O\"]"
   ]
  },
  {
   "cell_type": "code",
   "execution_count": 3,
   "metadata": {},
   "outputs": [
    {
     "name": "stdout",
     "output_type": "stream",
     "text": [
      "Tokenized Sentence: ['i', 'want', 'to', 'book', 'an', 'airplane', 'ticket', 'air', '##fare']\n",
      "Updated Labels: ['O', 'O', 'O', 'O', 'O', 'B-transport', 'O', 'pizza', 'X']\n",
      "Input IDs: [1045, 2215, 2000, 2338, 2019, 13297, 7281, 2250, 17883]\n"
     ]
    }
   ],
   "source": [
    "from transformers import BertTokenizer\n",
    "\n",
    "tokenizer = BertTokenizer.from_pretrained('bert-base-uncased')\n",
    "\n",
    "def tokenize_and_preserve_labels(sentence, text_labels):\n",
    "    tokenized_sentence = []\n",
    "    labels = []\n",
    "\n",
    "    for word, label in zip(sentence.split(), text_labels):\n",
    "        tokenized_word = tokenizer.tokenize(word)\n",
    "        n_subwords = len(tokenized_word)\n",
    "\n",
    "        tokenized_sentence.extend(tokenized_word)\n",
    "        labels.extend([label] + [\"X\"] * (n_subwords - 1))\n",
    "\n",
    "    return tokenized_sentence, labels\n",
    "\n",
    "sentence = \"I want to book an airplane ticket airfare\"\n",
    "labels = [\"O\", \"O\", \"O\", \"O\", \"O\", \"B-transport\", \"O\", \"pizza\"]\n",
    "# sentence = \"what is the cost for these flights from baltimore to philadelphia\"\n",
    "# label\n",
    "\n",
    "\n",
    "tokenized_sentence, updated_labels = tokenize_and_preserve_labels(sentence, labels)\n",
    "\n",
    "input_ids = tokenizer.convert_tokens_to_ids(tokenized_sentence)\n",
    "\n",
    "print(\"Tokenized Sentence:\", tokenized_sentence)\n",
    "print(\"Updated Labels:\", updated_labels)\n",
    "print(\"Input IDs:\", input_ids)"
   ]
  },
  {
   "cell_type": "code",
   "execution_count": 5,
   "metadata": {},
   "outputs": [
    {
     "data": {
      "text/plain": [
       "{'input_ids': [1045, 2215, 2000, 2338, 2019, 13297, 7281, 2250, 17883], 'token_type_ids': [0, 0, 0, 0, 0, 0, 0, 0, 0], 'attention_mask': [1, 1, 1, 1, 1, 1, 1, 1, 1]}"
      ]
     },
     "execution_count": 5,
     "metadata": {},
     "output_type": "execute_result"
    }
   ],
   "source": [
    "tokenizer.encode_plus(['i', 'want', 'to', 'book', 'an', 'airplane', 'ticket', 'air', '##fare'], add_special_tokens=False)"
   ]
  },
  {
   "cell_type": "code",
   "execution_count": 34,
   "metadata": {},
   "outputs": [
    {
     "data": {
      "text/plain": [
       "'[CLS] i want to book an airplane ticket airfare [SEP] [PAD]'"
      ]
     },
     "execution_count": 34,
     "metadata": {},
     "output_type": "execute_result"
    }
   ],
   "source": [
    "tokenizer.decode([101, 1045, 2215, 2000, 2338, 2019, 13297, 7281, 2250, 17883, 102, 0])"
   ]
  },
  {
   "cell_type": "code",
   "execution_count": null,
   "metadata": {},
   "outputs": [],
   "source": []
  }
 ],
 "metadata": {
  "kernelspec": {
   "display_name": "nlu",
   "language": "python",
   "name": "python3"
  },
  "language_info": {
   "codemirror_mode": {
    "name": "ipython",
    "version": 3
   },
   "file_extension": ".py",
   "mimetype": "text/x-python",
   "name": "python",
   "nbconvert_exporter": "python",
   "pygments_lexer": "ipython3",
   "version": "3.10.12"
  }
 },
 "nbformat": 4,
 "nbformat_minor": 2
}
