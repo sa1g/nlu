{
 "cells": [
  {
   "cell_type": "markdown",
   "metadata": {},
   "source": [
    "## Pre-Process datasets"
   ]
  },
  {
   "cell_type": "code",
   "execution_count": 6,
   "metadata": {},
   "outputs": [
    {
     "name": "stdout",
     "output_type": "stream",
     "text": [
      "Error:  0\n"
     ]
    }
   ],
   "source": [
    "import os\n",
    "\n",
    "train_path = os.path.join(\"..\", \"dataset\", \"laptop14_train.txt\")\n",
    "test_path = os.path.join(\"..\", \"dataset\", \"laptop14_test.txt\")\n",
    "\n",
    "utterance, labels = [], []\n",
    "\n",
    "with open(train_path, encoding=\"utf-8\", mode=\"r\") as f:\n",
    "    lines = f.readlines()\n",
    "    \n",
    "    error = 0\n",
    "    \n",
    "    for line in lines:\n",
    "        _, tags = line.split(\"####\")\n",
    "\n",
    "        tags = tags.split(\" \")\n",
    "\n",
    "        all_body, all_tags = [], []\n",
    "        for tag in tags:\n",
    "            a = tag.split(\"=\")\n",
    "\n",
    "            # if `\\n` is present in the tag, remove it\n",
    "            if \"\\n\" in a[1]:\n",
    "                a[1] = a[1].replace(\"\\n\", \"\")\n",
    "\n",
    "            all_body.append(a[0])\n",
    "            all_tags.append(a[1])\n",
    "\n",
    "        if (len(all_body) != len(all_tags)):\n",
    "            error += 1\n",
    "            print(all_body)\n",
    "            print(all_tags)\n",
    "\n",
    "        utterance.append(all_body)\n",
    "        labels.append(all_tags)\n",
    "\n",
    "print(\"Error: \", error)\n"
   ]
  },
  {
   "cell_type": "code",
   "execution_count": null,
   "metadata": {},
   "outputs": [],
   "source": []
  }
 ],
 "metadata": {
  "kernelspec": {
   "display_name": "nlu",
   "language": "python",
   "name": "python3"
  },
  "language_info": {
   "codemirror_mode": {
    "name": "ipython",
    "version": 3
   },
   "file_extension": ".py",
   "mimetype": "text/x-python",
   "name": "python",
   "nbconvert_exporter": "python",
   "pygments_lexer": "ipython3",
   "version": "3.10.12"
  }
 },
 "nbformat": 4,
 "nbformat_minor": 2
}
