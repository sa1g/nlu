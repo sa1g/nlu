{
 "cells": [
  {
   "cell_type": "code",
   "execution_count": 21,
   "metadata": {},
   "outputs": [],
   "source": [
    "true_data = [\n",
    "    [\"T\", \"O\", \"O\", \"O\", \"O\", \"O\", \"O\", \"O\", \"O\", \"T\", \"O\", \"O\", \"O\", \"O\", \"O\", \"O\"]\n",
    "]\n",
    "predicted = [\n",
    "    [\"T\", \"O\", \"O\", \"O\", \"O\", \"O\", \"O\", \"O\", \"O\", \"T\", \"O\", \"O\", \"O\", \"O\", \"O\", \"O\"]\n",
    "]"
   ]
  },
  {
   "cell_type": "code",
   "execution_count": 19,
   "metadata": {},
   "outputs": [
    {
     "data": {
      "text/plain": [
       "(0.0, 0.0, 0.0, 0.0)"
      ]
     },
     "execution_count": 19,
     "metadata": {},
     "output_type": "execute_result"
    }
   ],
   "source": [
    "from utils import evaluate_ts\n",
    "\n",
    "\n",
    "evaluate_ts(true_data, predicted)"
   ]
  },
  {
   "cell_type": "code",
   "execution_count": 23,
   "metadata": {},
   "outputs": [
    {
     "name": "stdout",
     "output_type": "stream",
     "text": [
      "Precision: 0.6666666644444444, Recall: 0.49999999875, F1 Score: 0.5714285648979592\n"
     ]
    }
   ],
   "source": [
    "import numpy as np\n",
    "\n",
    "SMALL_POSITIVE_CONST = 1e-8\n",
    "\n",
    "\n",
    "def tag2ts(ts_tag_sequence):\n",
    "    \"\"\"\n",
    "    Transform ts tag sequence to target spans\n",
    "    :param ts_tag_sequence: tag sequence with 'T' and 'O'\n",
    "    :return: List of (start, end) tuples for target spans\n",
    "    \"\"\"\n",
    "    n_tags = len(ts_tag_sequence)\n",
    "    ts_sequence = []\n",
    "    beg, end = -1, -1\n",
    "    for i in range(n_tags):\n",
    "        ts_tag = ts_tag_sequence[i]\n",
    "        if ts_tag == \"T\":\n",
    "            if beg == -1:\n",
    "                beg = i\n",
    "            end = i\n",
    "        elif ts_tag == \"O\" and beg != -1:\n",
    "            ts_sequence.append((beg, end))\n",
    "            beg, end = -1, -1\n",
    "    if beg != -1:\n",
    "        ts_sequence.append((beg, end))\n",
    "    return ts_sequence\n",
    "\n",
    "\n",
    "def match_ts(gold_ts_sequence, pred_ts_sequence):\n",
    "    \"\"\"\n",
    "    Calculate the number of correctly predicted target spans\n",
    "    :param gold_ts_sequence: gold standard target spans\n",
    "    :param pred_ts_sequence: predicted target spans\n",
    "    :return: hit_count, gold_count, pred_count\n",
    "    \"\"\"\n",
    "    hit_count = 0\n",
    "    gold_count = len(gold_ts_sequence)\n",
    "    pred_count = len(pred_ts_sequence)\n",
    "\n",
    "    for t in pred_ts_sequence:\n",
    "        if t in gold_ts_sequence:\n",
    "            hit_count += 1\n",
    "\n",
    "    return hit_count, gold_count, pred_count\n",
    "\n",
    "\n",
    "def evaluate_ts(gold_ts, pred_ts):\n",
    "    \"\"\"\n",
    "    Evaluate the model performance for the binary tagging task\n",
    "    :param gold_ts: gold standard ts tags\n",
    "    :param pred_ts: predicted ts tags\n",
    "    :return: Precision, Recall, F1 scores\n",
    "    \"\"\"\n",
    "    assert len(gold_ts) == len(pred_ts)\n",
    "    n_samples = len(gold_ts)\n",
    "\n",
    "    n_tp_ts, n_gold_ts, n_pred_ts = 0, 0, 0\n",
    "\n",
    "    for i in range(n_samples):\n",
    "        g_ts_sequence = tag2ts(ts_tag_sequence=gold_ts[i])\n",
    "        p_ts_sequence = tag2ts(ts_tag_sequence=pred_ts[i])\n",
    "\n",
    "        hit_ts_count, gold_ts_count, pred_ts_count = match_ts(\n",
    "            gold_ts_sequence=g_ts_sequence, pred_ts_sequence=p_ts_sequence\n",
    "        )\n",
    "\n",
    "        n_tp_ts += hit_ts_count\n",
    "        n_gold_ts += gold_ts_count\n",
    "        n_pred_ts += pred_ts_count\n",
    "\n",
    "    precision = float(n_tp_ts) / (n_pred_ts + SMALL_POSITIVE_CONST)\n",
    "    recall = float(n_tp_ts) / (n_gold_ts + SMALL_POSITIVE_CONST)\n",
    "    f1_score = 2 * precision * recall / (precision + recall + SMALL_POSITIVE_CONST)\n",
    "\n",
    "    return precision, recall, f1_score\n",
    "\n",
    "\n",
    "# Example usage\n",
    "true_data = [\n",
    "    [\"T\", \"O\", \"O\", \"O\", \"O\", \"O\", \"O\", \"O\", \"O\", \"T\", \"O\", \"O\", \"O\", \"O\", \"O\", \"O\"],\n",
    "    [\"T\", \"O\", \"O\", \"O\", \"O\", \"T\", \"O\"],\n",
    "]\n",
    "predicted = [\n",
    "    [\"T\", \"O\", \"O\", \"O\", \"O\", \"O\", \"O\", \"O\", \"O\", \"T\", \"O\", \"O\", \"O\", \"O\", \"O\", \"O\"],\n",
    "    [\"T\", \"T\", \"O\", \"O\", \"O\", \"O\", \"O\"],\n",
    "]\n",
    "\n",
    "precision, recall, f1 = evaluate_ts(true_data, predicted)\n",
    "print(f\"Precision: {precision}, Recall: {recall}, F1 Score: {f1}\")"
   ]
  },
  {
   "cell_type": "code",
   "execution_count": null,
   "metadata": {},
   "outputs": [],
   "source": []
  }
 ],
 "metadata": {
  "kernelspec": {
   "display_name": "nlu",
   "language": "python",
   "name": "python3"
  },
  "language_info": {
   "codemirror_mode": {
    "name": "ipython",
    "version": 3
   },
   "file_extension": ".py",
   "mimetype": "text/x-python",
   "name": "python",
   "nbconvert_exporter": "python",
   "pygments_lexer": "ipython3",
   "version": "3.10.12"
  }
 },
 "nbformat": 4,
 "nbformat_minor": 2
}
